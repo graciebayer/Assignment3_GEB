{
  "nbformat": 4,
  "nbformat_minor": 0,
  "metadata": {
    "colab": {
      "provenance": [],
      "collapsed_sections": []
    },
    "kernelspec": {
      "name": "python3",
      "display_name": "Python 3"
    },
    "language_info": {
      "name": "python"
    }
  },
  "cells": [
    {
      "cell_type": "markdown",
      "source": [
        "##CS430 - Assignment 3"
      ],
      "metadata": {
        "id": "OmXKbLSZVNFd"
      }
    },
    {
      "cell_type": "markdown",
      "source": [
        "Gracie Bayer"
      ],
      "metadata": {
        "id": "_iqfJbjBVS3N"
      }
    },
    {
      "cell_type": "code",
      "execution_count": 1,
      "metadata": {
        "id": "nYd4buBf_CJg"
      },
      "outputs": [],
      "source": [
        "import numpy as np\n",
        "import pandas as pd\n",
        "import matplotlib.pyplot as plt"
      ]
    },
    {
      "cell_type": "code",
      "source": [
        "data=pd.read_csv(\"/customer_data.csv\")"
      ],
      "metadata": {
        "id": "Svf7VgcIAXM9"
      },
      "execution_count": 2,
      "outputs": []
    },
    {
      "cell_type": "code",
      "source": [
        "data.head()"
      ],
      "metadata": {
        "colab": {
          "base_uri": "https://localhost:8080/",
          "height": 204
        },
        "id": "J_k13dFrAo_e",
        "outputId": "3fd158d0-2206-4bc7-93b7-a0336e928e7d"
      },
      "execution_count": 3,
      "outputs": [
        {
          "output_type": "execute_result",
          "data": {
            "text/plain": [
              "   label        id  fea_1   fea_2  fea_3     fea_4  fea_5  fea_6  fea_7  \\\n",
              "0      1  54982665      5  1245.5      3   77000.0      2     15      5   \n",
              "1      0  59004779      4  1277.0      1  113000.0      2      8     -1   \n",
              "2      0  58990862      7  1298.0      1  110000.0      2     11     -1   \n",
              "3      1  58995168      7  1335.5      1  151000.0      2     11      5   \n",
              "4      0  54987320      7     NaN      2   59000.0      2     11      5   \n",
              "\n",
              "   fea_8  fea_9  fea_10      fea_11  \n",
              "0    109      5  151300  244.948974  \n",
              "1    100      3  341759  207.173840  \n",
              "2    101      5   72001    1.000000  \n",
              "3    110      3   60084    1.000000  \n",
              "4    108      4  450081  197.403141  "
            ],
            "text/html": [
              "\n",
              "  <div id=\"df-4ba3eb8f-cb6e-447a-95dd-0167a9dd4f6c\">\n",
              "    <div class=\"colab-df-container\">\n",
              "      <div>\n",
              "<style scoped>\n",
              "    .dataframe tbody tr th:only-of-type {\n",
              "        vertical-align: middle;\n",
              "    }\n",
              "\n",
              "    .dataframe tbody tr th {\n",
              "        vertical-align: top;\n",
              "    }\n",
              "\n",
              "    .dataframe thead th {\n",
              "        text-align: right;\n",
              "    }\n",
              "</style>\n",
              "<table border=\"1\" class=\"dataframe\">\n",
              "  <thead>\n",
              "    <tr style=\"text-align: right;\">\n",
              "      <th></th>\n",
              "      <th>label</th>\n",
              "      <th>id</th>\n",
              "      <th>fea_1</th>\n",
              "      <th>fea_2</th>\n",
              "      <th>fea_3</th>\n",
              "      <th>fea_4</th>\n",
              "      <th>fea_5</th>\n",
              "      <th>fea_6</th>\n",
              "      <th>fea_7</th>\n",
              "      <th>fea_8</th>\n",
              "      <th>fea_9</th>\n",
              "      <th>fea_10</th>\n",
              "      <th>fea_11</th>\n",
              "    </tr>\n",
              "  </thead>\n",
              "  <tbody>\n",
              "    <tr>\n",
              "      <th>0</th>\n",
              "      <td>1</td>\n",
              "      <td>54982665</td>\n",
              "      <td>5</td>\n",
              "      <td>1245.5</td>\n",
              "      <td>3</td>\n",
              "      <td>77000.0</td>\n",
              "      <td>2</td>\n",
              "      <td>15</td>\n",
              "      <td>5</td>\n",
              "      <td>109</td>\n",
              "      <td>5</td>\n",
              "      <td>151300</td>\n",
              "      <td>244.948974</td>\n",
              "    </tr>\n",
              "    <tr>\n",
              "      <th>1</th>\n",
              "      <td>0</td>\n",
              "      <td>59004779</td>\n",
              "      <td>4</td>\n",
              "      <td>1277.0</td>\n",
              "      <td>1</td>\n",
              "      <td>113000.0</td>\n",
              "      <td>2</td>\n",
              "      <td>8</td>\n",
              "      <td>-1</td>\n",
              "      <td>100</td>\n",
              "      <td>3</td>\n",
              "      <td>341759</td>\n",
              "      <td>207.173840</td>\n",
              "    </tr>\n",
              "    <tr>\n",
              "      <th>2</th>\n",
              "      <td>0</td>\n",
              "      <td>58990862</td>\n",
              "      <td>7</td>\n",
              "      <td>1298.0</td>\n",
              "      <td>1</td>\n",
              "      <td>110000.0</td>\n",
              "      <td>2</td>\n",
              "      <td>11</td>\n",
              "      <td>-1</td>\n",
              "      <td>101</td>\n",
              "      <td>5</td>\n",
              "      <td>72001</td>\n",
              "      <td>1.000000</td>\n",
              "    </tr>\n",
              "    <tr>\n",
              "      <th>3</th>\n",
              "      <td>1</td>\n",
              "      <td>58995168</td>\n",
              "      <td>7</td>\n",
              "      <td>1335.5</td>\n",
              "      <td>1</td>\n",
              "      <td>151000.0</td>\n",
              "      <td>2</td>\n",
              "      <td>11</td>\n",
              "      <td>5</td>\n",
              "      <td>110</td>\n",
              "      <td>3</td>\n",
              "      <td>60084</td>\n",
              "      <td>1.000000</td>\n",
              "    </tr>\n",
              "    <tr>\n",
              "      <th>4</th>\n",
              "      <td>0</td>\n",
              "      <td>54987320</td>\n",
              "      <td>7</td>\n",
              "      <td>NaN</td>\n",
              "      <td>2</td>\n",
              "      <td>59000.0</td>\n",
              "      <td>2</td>\n",
              "      <td>11</td>\n",
              "      <td>5</td>\n",
              "      <td>108</td>\n",
              "      <td>4</td>\n",
              "      <td>450081</td>\n",
              "      <td>197.403141</td>\n",
              "    </tr>\n",
              "  </tbody>\n",
              "</table>\n",
              "</div>\n",
              "      <button class=\"colab-df-convert\" onclick=\"convertToInteractive('df-4ba3eb8f-cb6e-447a-95dd-0167a9dd4f6c')\"\n",
              "              title=\"Convert this dataframe to an interactive table.\"\n",
              "              style=\"display:none;\">\n",
              "        \n",
              "  <svg xmlns=\"http://www.w3.org/2000/svg\" height=\"24px\"viewBox=\"0 0 24 24\"\n",
              "       width=\"24px\">\n",
              "    <path d=\"M0 0h24v24H0V0z\" fill=\"none\"/>\n",
              "    <path d=\"M18.56 5.44l.94 2.06.94-2.06 2.06-.94-2.06-.94-.94-2.06-.94 2.06-2.06.94zm-11 1L8.5 8.5l.94-2.06 2.06-.94-2.06-.94L8.5 2.5l-.94 2.06-2.06.94zm10 10l.94 2.06.94-2.06 2.06-.94-2.06-.94-.94-2.06-.94 2.06-2.06.94z\"/><path d=\"M17.41 7.96l-1.37-1.37c-.4-.4-.92-.59-1.43-.59-.52 0-1.04.2-1.43.59L10.3 9.45l-7.72 7.72c-.78.78-.78 2.05 0 2.83L4 21.41c.39.39.9.59 1.41.59.51 0 1.02-.2 1.41-.59l7.78-7.78 2.81-2.81c.8-.78.8-2.07 0-2.86zM5.41 20L4 18.59l7.72-7.72 1.47 1.35L5.41 20z\"/>\n",
              "  </svg>\n",
              "      </button>\n",
              "      \n",
              "  <style>\n",
              "    .colab-df-container {\n",
              "      display:flex;\n",
              "      flex-wrap:wrap;\n",
              "      gap: 12px;\n",
              "    }\n",
              "\n",
              "    .colab-df-convert {\n",
              "      background-color: #E8F0FE;\n",
              "      border: none;\n",
              "      border-radius: 50%;\n",
              "      cursor: pointer;\n",
              "      display: none;\n",
              "      fill: #1967D2;\n",
              "      height: 32px;\n",
              "      padding: 0 0 0 0;\n",
              "      width: 32px;\n",
              "    }\n",
              "\n",
              "    .colab-df-convert:hover {\n",
              "      background-color: #E2EBFA;\n",
              "      box-shadow: 0px 1px 2px rgba(60, 64, 67, 0.3), 0px 1px 3px 1px rgba(60, 64, 67, 0.15);\n",
              "      fill: #174EA6;\n",
              "    }\n",
              "\n",
              "    [theme=dark] .colab-df-convert {\n",
              "      background-color: #3B4455;\n",
              "      fill: #D2E3FC;\n",
              "    }\n",
              "\n",
              "    [theme=dark] .colab-df-convert:hover {\n",
              "      background-color: #434B5C;\n",
              "      box-shadow: 0px 1px 3px 1px rgba(0, 0, 0, 0.15);\n",
              "      filter: drop-shadow(0px 1px 2px rgba(0, 0, 0, 0.3));\n",
              "      fill: #FFFFFF;\n",
              "    }\n",
              "  </style>\n",
              "\n",
              "      <script>\n",
              "        const buttonEl =\n",
              "          document.querySelector('#df-4ba3eb8f-cb6e-447a-95dd-0167a9dd4f6c button.colab-df-convert');\n",
              "        buttonEl.style.display =\n",
              "          google.colab.kernel.accessAllowed ? 'block' : 'none';\n",
              "\n",
              "        async function convertToInteractive(key) {\n",
              "          const element = document.querySelector('#df-4ba3eb8f-cb6e-447a-95dd-0167a9dd4f6c');\n",
              "          const dataTable =\n",
              "            await google.colab.kernel.invokeFunction('convertToInteractive',\n",
              "                                                     [key], {});\n",
              "          if (!dataTable) return;\n",
              "\n",
              "          const docLinkHtml = 'Like what you see? Visit the ' +\n",
              "            '<a target=\"_blank\" href=https://colab.research.google.com/notebooks/data_table.ipynb>data table notebook</a>'\n",
              "            + ' to learn more about interactive tables.';\n",
              "          element.innerHTML = '';\n",
              "          dataTable['output_type'] = 'display_data';\n",
              "          await google.colab.output.renderOutput(dataTable, element);\n",
              "          const docLink = document.createElement('div');\n",
              "          docLink.innerHTML = docLinkHtml;\n",
              "          element.appendChild(docLink);\n",
              "        }\n",
              "      </script>\n",
              "    </div>\n",
              "  </div>\n",
              "  "
            ]
          },
          "metadata": {},
          "execution_count": 3
        }
      ]
    },
    {
      "cell_type": "code",
      "source": [
        "data.info()"
      ],
      "metadata": {
        "colab": {
          "base_uri": "https://localhost:8080/"
        },
        "id": "HKWd4S6ABSF8",
        "outputId": "3895785b-164c-49bb-f4ac-a8322a682490"
      },
      "execution_count": 4,
      "outputs": [
        {
          "output_type": "stream",
          "name": "stdout",
          "text": [
            "<class 'pandas.core.frame.DataFrame'>\n",
            "RangeIndex: 1125 entries, 0 to 1124\n",
            "Data columns (total 13 columns):\n",
            " #   Column  Non-Null Count  Dtype  \n",
            "---  ------  --------------  -----  \n",
            " 0   label   1125 non-null   int64  \n",
            " 1   id      1125 non-null   int64  \n",
            " 2   fea_1   1125 non-null   int64  \n",
            " 3   fea_2   976 non-null    float64\n",
            " 4   fea_3   1125 non-null   int64  \n",
            " 5   fea_4   1125 non-null   float64\n",
            " 6   fea_5   1125 non-null   int64  \n",
            " 7   fea_6   1125 non-null   int64  \n",
            " 8   fea_7   1125 non-null   int64  \n",
            " 9   fea_8   1125 non-null   int64  \n",
            " 10  fea_9   1125 non-null   int64  \n",
            " 11  fea_10  1125 non-null   int64  \n",
            " 12  fea_11  1125 non-null   float64\n",
            "dtypes: float64(3), int64(10)\n",
            "memory usage: 114.4 KB\n"
          ]
        }
      ]
    },
    {
      "cell_type": "code",
      "source": [
        "data=pd.get_dummies(data[['label','id','fea_1','fea_2','fea_3','fea_4','fea_5','fea_6','fea_7','fea_8','fea_9','fea_10','fea_11']],drop_first=True)"
      ],
      "metadata": {
        "id": "1rZlZdvHRqEC"
      },
      "execution_count": 5,
      "outputs": []
    },
    {
      "cell_type": "code",
      "source": [
        "data.isna().sum()"
      ],
      "metadata": {
        "colab": {
          "base_uri": "https://localhost:8080/"
        },
        "id": "DxkE0QwqVIym",
        "outputId": "ac063527-0d13-4f3f-a4fa-6627d915c39a"
      },
      "execution_count": 6,
      "outputs": [
        {
          "output_type": "execute_result",
          "data": {
            "text/plain": [
              "label       0\n",
              "id          0\n",
              "fea_1       0\n",
              "fea_2     149\n",
              "fea_3       0\n",
              "fea_4       0\n",
              "fea_5       0\n",
              "fea_6       0\n",
              "fea_7       0\n",
              "fea_8       0\n",
              "fea_9       0\n",
              "fea_10      0\n",
              "fea_11      0\n",
              "dtype: int64"
            ]
          },
          "metadata": {},
          "execution_count": 6
        }
      ]
    },
    {
      "cell_type": "code",
      "source": [
        "data=data.drop(data[['id']],axis=1)"
      ],
      "metadata": {
        "id": "dGsz7AT6WQze"
      },
      "execution_count": 7,
      "outputs": []
    },
    {
      "cell_type": "code",
      "source": [
        "data.isnull().sum()"
      ],
      "metadata": {
        "colab": {
          "base_uri": "https://localhost:8080/"
        },
        "id": "BDRz2gjIjs1r",
        "outputId": "c66b5943-7647-4b06-8807-3a54e3b7dc87"
      },
      "execution_count": 8,
      "outputs": [
        {
          "output_type": "execute_result",
          "data": {
            "text/plain": [
              "label       0\n",
              "fea_1       0\n",
              "fea_2     149\n",
              "fea_3       0\n",
              "fea_4       0\n",
              "fea_5       0\n",
              "fea_6       0\n",
              "fea_7       0\n",
              "fea_8       0\n",
              "fea_9       0\n",
              "fea_10      0\n",
              "fea_11      0\n",
              "dtype: int64"
            ]
          },
          "metadata": {},
          "execution_count": 8
        }
      ]
    },
    {
      "cell_type": "code",
      "source": [
        "data=data.drop(data[['fea_2']],axis=1)"
      ],
      "metadata": {
        "id": "9gZx1RIfju27"
      },
      "execution_count": 9,
      "outputs": []
    },
    {
      "cell_type": "code",
      "source": [
        "data.info()"
      ],
      "metadata": {
        "colab": {
          "base_uri": "https://localhost:8080/"
        },
        "id": "UDK_P4ucjzRD",
        "outputId": "e77885f2-e1a9-4fe7-8e8a-dd28aeb06c9f"
      },
      "execution_count": 10,
      "outputs": [
        {
          "output_type": "stream",
          "name": "stdout",
          "text": [
            "<class 'pandas.core.frame.DataFrame'>\n",
            "RangeIndex: 1125 entries, 0 to 1124\n",
            "Data columns (total 11 columns):\n",
            " #   Column  Non-Null Count  Dtype  \n",
            "---  ------  --------------  -----  \n",
            " 0   label   1125 non-null   int64  \n",
            " 1   fea_1   1125 non-null   int64  \n",
            " 2   fea_3   1125 non-null   int64  \n",
            " 3   fea_4   1125 non-null   float64\n",
            " 4   fea_5   1125 non-null   int64  \n",
            " 5   fea_6   1125 non-null   int64  \n",
            " 6   fea_7   1125 non-null   int64  \n",
            " 7   fea_8   1125 non-null   int64  \n",
            " 8   fea_9   1125 non-null   int64  \n",
            " 9   fea_10  1125 non-null   int64  \n",
            " 10  fea_11  1125 non-null   float64\n",
            "dtypes: float64(2), int64(9)\n",
            "memory usage: 96.8 KB\n"
          ]
        }
      ]
    },
    {
      "cell_type": "code",
      "source": [
        "X=data.drop('label', axis=1)\n",
        "y=data['label']"
      ],
      "metadata": {
        "id": "pyLsU0uiBSIk"
      },
      "execution_count": 11,
      "outputs": []
    },
    {
      "cell_type": "code",
      "source": [
        "X.info()"
      ],
      "metadata": {
        "colab": {
          "base_uri": "https://localhost:8080/"
        },
        "id": "fxq4Al6lBSLQ",
        "outputId": "87ca70e6-7f5e-4edd-9369-069fa3e26e25"
      },
      "execution_count": 12,
      "outputs": [
        {
          "output_type": "stream",
          "name": "stdout",
          "text": [
            "<class 'pandas.core.frame.DataFrame'>\n",
            "RangeIndex: 1125 entries, 0 to 1124\n",
            "Data columns (total 10 columns):\n",
            " #   Column  Non-Null Count  Dtype  \n",
            "---  ------  --------------  -----  \n",
            " 0   fea_1   1125 non-null   int64  \n",
            " 1   fea_3   1125 non-null   int64  \n",
            " 2   fea_4   1125 non-null   float64\n",
            " 3   fea_5   1125 non-null   int64  \n",
            " 4   fea_6   1125 non-null   int64  \n",
            " 5   fea_7   1125 non-null   int64  \n",
            " 6   fea_8   1125 non-null   int64  \n",
            " 7   fea_9   1125 non-null   int64  \n",
            " 8   fea_10  1125 non-null   int64  \n",
            " 9   fea_11  1125 non-null   float64\n",
            "dtypes: float64(2), int64(8)\n",
            "memory usage: 88.0 KB\n"
          ]
        }
      ]
    },
    {
      "cell_type": "code",
      "source": [
        "from sklearn.model_selection import train_test_split\n",
        "X_train,X_test,y_train,y_test=train_test_split(X,y, test_size=.20, random_state=42)"
      ],
      "metadata": {
        "id": "-_h8op75Rp34"
      },
      "execution_count": 13,
      "outputs": []
    },
    {
      "cell_type": "code",
      "source": [
        "from sklearn.preprocessing import StandardScaler\n",
        "scaler=StandardScaler()\n",
        "scaler.fit(X)\n",
        "X=scaler.transform(X)"
      ],
      "metadata": {
        "id": "NTL0SDkDiOZ8"
      },
      "execution_count": 14,
      "outputs": []
    },
    {
      "cell_type": "code",
      "source": [
        "from sklearn.linear_model import LogisticRegression\n",
        "logistic_regressor=LogisticRegression(solver='liblinear', max_iter=100, random_state=0)\n",
        "logistic_regressor.fit(X_train,y_train)"
      ],
      "metadata": {
        "colab": {
          "base_uri": "https://localhost:8080/"
        },
        "id": "w1cFrbRLPzB_",
        "outputId": "f5e5adf0-7fc3-43fc-ec0d-a73614f739cd"
      },
      "execution_count": 15,
      "outputs": [
        {
          "output_type": "execute_result",
          "data": {
            "text/plain": [
              "LogisticRegression(random_state=0, solver='liblinear')"
            ]
          },
          "metadata": {},
          "execution_count": 15
        }
      ]
    },
    {
      "cell_type": "code",
      "source": [
        "HoldVal_score=logistic_regressor.score(X_test,y_test)\n",
        "print(HoldVal_score)"
      ],
      "metadata": {
        "colab": {
          "base_uri": "https://localhost:8080/"
        },
        "id": "UDvl9lVoP3rk",
        "outputId": "520afb37-6e0a-4af0-871d-67d3e1eec25f"
      },
      "execution_count": 16,
      "outputs": [
        {
          "output_type": "stream",
          "name": "stdout",
          "text": [
            "0.7644444444444445\n"
          ]
        }
      ]
    },
    {
      "cell_type": "markdown",
      "source": [
        "##Stratified K Fold Cross validation technique with SVC classifier"
      ],
      "metadata": {
        "id": "qYQu8Ki7g0x-"
      }
    },
    {
      "cell_type": "code",
      "source": [
        "from sklearn.model_selection import StratifiedKFold\n",
        "from sklearn import svm\n",
        "from sklearn.svm import SVC\n",
        "from sklearn.model_selection import cross_val_score\n",
        "SKFold=StratifiedKFold(n_splits=12)\n",
        "logistic_regressor=LogisticRegression()\n",
        "svc=svm.SVC()"
      ],
      "metadata": {
        "id": "jUwMdelpTM5U"
      },
      "execution_count": 17,
      "outputs": []
    },
    {
      "cell_type": "code",
      "source": [
        "svc=SVC(kernel='linear')\n",
        "scores=cross_val_score(svc,X,y,cv=SKFold,scoring='accuracy') \n",
        "print(scores)"
      ],
      "metadata": {
        "colab": {
          "base_uri": "https://localhost:8080/"
        },
        "id": "ppk9nWOkTZei",
        "outputId": "45856ed6-d8d8-4f1f-db4e-791bc3bfe5d4"
      },
      "execution_count": 18,
      "outputs": [
        {
          "output_type": "stream",
          "name": "stdout",
          "text": [
            "[0.79787234 0.79787234 0.79787234 0.79787234 0.79787234 0.79787234\n",
            " 0.79787234 0.79787234 0.79787234 0.80645161 0.80645161 0.80645161]\n"
          ]
        }
      ]
    },
    {
      "cell_type": "code",
      "source": [
        "mean_scores=np.mean(scores)\n",
        "mean_scores"
      ],
      "metadata": {
        "colab": {
          "base_uri": "https://localhost:8080/"
        },
        "id": "jZXXMgxFTg7M",
        "outputId": "07a219e1-fc14-4726-bd12-57b15f040252"
      },
      "execution_count": 19,
      "outputs": [
        {
          "output_type": "execute_result",
          "data": {
            "text/plain": [
              "0.8000171585449554"
            ]
          },
          "metadata": {},
          "execution_count": 19
        }
      ]
    },
    {
      "cell_type": "markdown",
      "source": [
        "##Repeated Random Subsampling technique with SVC classifier"
      ],
      "metadata": {
        "id": "ldnoJiodg38y"
      }
    },
    {
      "cell_type": "code",
      "source": [
        "from sklearn.model_selection import ShuffleSplit\n",
        "logistic_regressor=LogisticRegression(solver='liblinear', max_iter=100, random_state=0)\n",
        "ssplit=ShuffleSplit(n_splits=10, test_size=.15)\n",
        "result_ssplit=cross_val_score(logistic_regressor,X,y,cv=ssplit)"
      ],
      "metadata": {
        "id": "cxArD-9LBSQc"
      },
      "execution_count": 20,
      "outputs": []
    },
    {
      "cell_type": "code",
      "source": [
        "result_ssplit"
      ],
      "metadata": {
        "colab": {
          "base_uri": "https://localhost:8080/"
        },
        "id": "o2P8yNxahEju",
        "outputId": "08d421da-28d4-499e-a8cd-87c0a9ebf579"
      },
      "execution_count": 21,
      "outputs": [
        {
          "output_type": "execute_result",
          "data": {
            "text/plain": [
              "array([0.79289941, 0.76331361, 0.81065089, 0.84615385, 0.82840237,\n",
              "       0.80473373, 0.76331361, 0.84023669, 0.81065089, 0.79881657])"
            ]
          },
          "metadata": {},
          "execution_count": 21
        }
      ]
    },
    {
      "cell_type": "code",
      "source": [
        "ssplit_score=np.mean(result_ssplit)\n",
        "print(ssplit_score)"
      ],
      "metadata": {
        "colab": {
          "base_uri": "https://localhost:8080/"
        },
        "id": "Sdgw6aKChEm6",
        "outputId": "df6df5b3-b9d8-42b9-afd3-1224afafe4ee"
      },
      "execution_count": 22,
      "outputs": [
        {
          "output_type": "stream",
          "name": "stdout",
          "text": [
            "0.8059171597633135\n"
          ]
        }
      ]
    },
    {
      "cell_type": "markdown",
      "source": [
        "##Randomized search with Logistic Regressor"
      ],
      "metadata": {
        "id": "PS-28pBEhM4R"
      }
    },
    {
      "cell_type": "code",
      "source": [
        "from sklearn.model_selection import RandomizedSearchCV\n",
        "params={'solver':['lbfgs', 'liblinear'],\n",
        "        'multi_class' :['auto', 'ovr', 'multinomial'],\n",
        "        'C': [0.001,0.01,0.1,1,10,100,1000]}\n",
        "clf=RandomizedSearchCV(logistic_regressor,params,cv=8,return_train_score=True,n_iter=7,random_state=42) \n",
        "clf.fit(X,y)\n",
        "scores=clf.cv_results_['mean_test_score']\n",
        "scores=np.mean(scores)"
      ],
      "metadata": {
        "id": "1HP9g4HsRYh9"
      },
      "execution_count": 23,
      "outputs": []
    },
    {
      "cell_type": "code",
      "source": [
        "scores"
      ],
      "metadata": {
        "colab": {
          "base_uri": "https://localhost:8080/"
        },
        "id": "OUBP4sTPOAcg",
        "outputId": "f9e84a8a-18ac-4d54-e6f9-e6d1a34c1c90"
      },
      "execution_count": 24,
      "outputs": [
        {
          "output_type": "execute_result",
          "data": {
            "text/plain": [
              "0.7999999999999999"
            ]
          },
          "metadata": {},
          "execution_count": 24
        }
      ]
    },
    {
      "cell_type": "markdown",
      "source": [
        "##Grid search with SVC classifier"
      ],
      "metadata": {
        "id": "Bfp47mZ4hSUA"
      }
    },
    {
      "cell_type": "code",
      "source": [
        "from sklearn.linear_model import SGDRegressor,Lasso,LinearRegression"
      ],
      "metadata": {
        "id": "-Yg7CPzMhTw5"
      },
      "execution_count": 25,
      "outputs": []
    },
    {
      "cell_type": "code",
      "source": [
        "param= {'C':[0.1,1,10,100],\n",
        "        'kernel':['rbf','linear','poly'],\n",
        "        }"
      ],
      "metadata": {
        "id": "UmDOBHWUXh-f"
      },
      "execution_count": 37,
      "outputs": []
    },
    {
      "cell_type": "code",
      "source": [
        "from sklearn.model_selection import GridSearchCV\n",
        "search=GridSearchCV(estimator=svc,param_grid=param,verbose=4,cv=5)\n",
        "search.fit(X,y)\n",
        "search.cv_results_\n",
        "sscores=search.cv_results_['mean_test_score']\n",
        "print(sscores)"
      ],
      "metadata": {
        "colab": {
          "base_uri": "https://localhost:8080/"
        },
        "id": "5_ibPiOYWzqk",
        "outputId": "17734fe0-0a6f-4718-af3e-c9808780fef8"
      },
      "execution_count": 38,
      "outputs": [
        {
          "output_type": "stream",
          "name": "stdout",
          "text": [
            "Fitting 5 folds for each of 12 candidates, totalling 60 fits\n",
            "[CV 1/5] END .................C=0.1, kernel=rbf;, score=0.800 total time=   0.0s\n",
            "[CV 2/5] END .................C=0.1, kernel=rbf;, score=0.800 total time=   0.0s\n",
            "[CV 3/5] END .................C=0.1, kernel=rbf;, score=0.800 total time=   0.0s\n",
            "[CV 4/5] END .................C=0.1, kernel=rbf;, score=0.800 total time=   0.0s\n",
            "[CV 5/5] END .................C=0.1, kernel=rbf;, score=0.800 total time=   0.0s\n",
            "[CV 1/5] END ..............C=0.1, kernel=linear;, score=0.800 total time=   0.0s\n",
            "[CV 2/5] END ..............C=0.1, kernel=linear;, score=0.800 total time=   0.0s\n",
            "[CV 3/5] END ..............C=0.1, kernel=linear;, score=0.800 total time=   0.0s\n",
            "[CV 4/5] END ..............C=0.1, kernel=linear;, score=0.800 total time=   0.0s\n",
            "[CV 5/5] END ..............C=0.1, kernel=linear;, score=0.800 total time=   0.0s\n",
            "[CV 1/5] END ................C=0.1, kernel=poly;, score=0.800 total time=   0.0s\n",
            "[CV 2/5] END ................C=0.1, kernel=poly;, score=0.800 total time=   0.0s\n",
            "[CV 3/5] END ................C=0.1, kernel=poly;, score=0.800 total time=   0.0s\n",
            "[CV 4/5] END ................C=0.1, kernel=poly;, score=0.800 total time=   0.0s\n",
            "[CV 5/5] END ................C=0.1, kernel=poly;, score=0.796 total time=   0.0s\n",
            "[CV 1/5] END ...................C=1, kernel=rbf;, score=0.800 total time=   0.0s\n",
            "[CV 2/5] END ...................C=1, kernel=rbf;, score=0.800 total time=   0.0s\n",
            "[CV 3/5] END ...................C=1, kernel=rbf;, score=0.800 total time=   0.0s\n",
            "[CV 4/5] END ...................C=1, kernel=rbf;, score=0.800 total time=   0.1s\n",
            "[CV 5/5] END ...................C=1, kernel=rbf;, score=0.800 total time=   0.0s\n",
            "[CV 1/5] END ................C=1, kernel=linear;, score=0.800 total time=   0.0s\n",
            "[CV 2/5] END ................C=1, kernel=linear;, score=0.800 total time=   0.0s\n",
            "[CV 3/5] END ................C=1, kernel=linear;, score=0.800 total time=   0.0s\n",
            "[CV 4/5] END ................C=1, kernel=linear;, score=0.800 total time=   0.0s\n",
            "[CV 5/5] END ................C=1, kernel=linear;, score=0.800 total time=   0.0s\n",
            "[CV 1/5] END ..................C=1, kernel=poly;, score=0.800 total time=   0.0s\n",
            "[CV 2/5] END ..................C=1, kernel=poly;, score=0.796 total time=   0.0s\n",
            "[CV 3/5] END ..................C=1, kernel=poly;, score=0.800 total time=   0.0s\n",
            "[CV 4/5] END ..................C=1, kernel=poly;, score=0.782 total time=   0.0s\n",
            "[CV 5/5] END ..................C=1, kernel=poly;, score=0.796 total time=   0.0s\n",
            "[CV 1/5] END ..................C=10, kernel=rbf;, score=0.791 total time=   0.1s\n",
            "[CV 2/5] END ..................C=10, kernel=rbf;, score=0.800 total time=   0.1s\n",
            "[CV 3/5] END ..................C=10, kernel=rbf;, score=0.778 total time=   0.1s\n",
            "[CV 4/5] END ..................C=10, kernel=rbf;, score=0.769 total time=   0.0s\n",
            "[CV 5/5] END ..................C=10, kernel=rbf;, score=0.778 total time=   0.1s\n",
            "[CV 1/5] END ...............C=10, kernel=linear;, score=0.800 total time=   0.0s\n",
            "[CV 2/5] END ...............C=10, kernel=linear;, score=0.800 total time=   0.0s\n",
            "[CV 3/5] END ...............C=10, kernel=linear;, score=0.800 total time=   0.0s\n",
            "[CV 4/5] END ...............C=10, kernel=linear;, score=0.800 total time=   0.0s\n",
            "[CV 5/5] END ...............C=10, kernel=linear;, score=0.800 total time=   0.0s\n",
            "[CV 1/5] END .................C=10, kernel=poly;, score=0.791 total time=   0.1s\n",
            "[CV 2/5] END .................C=10, kernel=poly;, score=0.787 total time=   0.1s\n",
            "[CV 3/5] END .................C=10, kernel=poly;, score=0.782 total time=   0.1s\n",
            "[CV 4/5] END .................C=10, kernel=poly;, score=0.756 total time=   0.1s\n",
            "[CV 5/5] END .................C=10, kernel=poly;, score=0.787 total time=   0.1s\n",
            "[CV 1/5] END .................C=100, kernel=rbf;, score=0.778 total time=   0.1s\n",
            "[CV 2/5] END .................C=100, kernel=rbf;, score=0.760 total time=   0.1s\n",
            "[CV 3/5] END .................C=100, kernel=rbf;, score=0.698 total time=   0.1s\n",
            "[CV 4/5] END .................C=100, kernel=rbf;, score=0.733 total time=   0.1s\n",
            "[CV 5/5] END .................C=100, kernel=rbf;, score=0.751 total time=   0.1s\n",
            "[CV 1/5] END ..............C=100, kernel=linear;, score=0.800 total time=  20.1s\n",
            "[CV 2/5] END ..............C=100, kernel=linear;, score=0.800 total time=   0.4s\n",
            "[CV 3/5] END ..............C=100, kernel=linear;, score=0.800 total time=   3.3s\n",
            "[CV 4/5] END ..............C=100, kernel=linear;, score=0.800 total time=   2.5s\n",
            "[CV 5/5] END ..............C=100, kernel=linear;, score=0.800 total time=   4.4s\n",
            "[CV 1/5] END ................C=100, kernel=poly;, score=0.751 total time=   0.6s\n",
            "[CV 2/5] END ................C=100, kernel=poly;, score=0.760 total time=   0.4s\n",
            "[CV 3/5] END ................C=100, kernel=poly;, score=0.742 total time=   0.3s\n",
            "[CV 4/5] END ................C=100, kernel=poly;, score=0.738 total time=   0.4s\n",
            "[CV 5/5] END ................C=100, kernel=poly;, score=0.729 total time=   0.3s\n",
            "[0.8        0.8        0.79911111 0.8        0.8        0.79466667\n",
            " 0.78311111 0.8        0.78044444 0.744      0.8        0.744     ]\n"
          ]
        }
      ]
    },
    {
      "cell_type": "code",
      "source": [
        "sscores=np.mean(sscores)"
      ],
      "metadata": {
        "id": "FFQUTShaW-XA"
      },
      "execution_count": 39,
      "outputs": []
    },
    {
      "cell_type": "markdown",
      "source": [
        "##PrettyTable"
      ],
      "metadata": {
        "id": "4dh9Vk7nhZns"
      }
    },
    {
      "cell_type": "code",
      "source": [
        "from prettytable import PrettyTable\n",
        "myTable=PrettyTable(['Cross Validation Techniques','Classifier','Score'])\n",
        "myTable.add_row(['Stratified K Fold','SVC',mean_scores])\n",
        "myTable.add_row(['Repeated Random Subsampling','SVC',ssplit_score])\n",
        "myTable.add_row(['Randomized search', 'Logistic Regressor',scores])\n",
        "myTable.add_row(['Grid Search','SVC',sscores])"
      ],
      "metadata": {
        "id": "K71pJVs6UfW0"
      },
      "execution_count": 40,
      "outputs": []
    },
    {
      "cell_type": "code",
      "source": [
        "print(myTable)"
      ],
      "metadata": {
        "colab": {
          "base_uri": "https://localhost:8080/"
        },
        "id": "e8cPUJPIOGYY",
        "outputId": "39b4dd9f-3e67-4a4b-ecf7-a28d043831b7"
      },
      "execution_count": 41,
      "outputs": [
        {
          "output_type": "stream",
          "name": "stdout",
          "text": [
            "+-----------------------------+--------------------+--------------------+\n",
            "| Cross Validation Techniques |     Classifier     |       Score        |\n",
            "+-----------------------------+--------------------+--------------------+\n",
            "|      Stratified K Fold      |        SVC         | 0.8000171585449554 |\n",
            "| Repeated Random Subsampling |        SVC         | 0.8059171597633135 |\n",
            "|      Randomized search      | Logistic Regressor | 0.7999999999999999 |\n",
            "|         Grid Search         |        SVC         | 0.787111111111111  |\n",
            "+-----------------------------+--------------------+--------------------+\n"
          ]
        }
      ]
    },
    {
      "cell_type": "markdown",
      "source": [
        "##Best Score"
      ],
      "metadata": {
        "id": "lz5ci81jVEcu"
      }
    },
    {
      "cell_type": "markdown",
      "source": [
        "Repeated Random Subsampling score is the best score!"
      ],
      "metadata": {
        "id": "FRo22YlOVGyp"
      }
    }
  ]
}